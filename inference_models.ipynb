{
 "cells": [
  {
   "cell_type": "code",
   "execution_count": 1,
   "metadata": {},
   "outputs": [],
   "source": [
    "import pandas as pd\n",
    "import numpy as np\n",
    "import joblib"
   ]
  },
  {
   "cell_type": "code",
   "execution_count": 2,
   "metadata": {},
   "outputs": [
    {
     "name": "stderr",
     "output_type": "stream",
     "text": [
      "<>:1: SyntaxWarning: invalid escape sequence '\\s'\n",
      "<>:1: SyntaxWarning: invalid escape sequence '\\s'\n",
      "C:\\Users\\Admin\\AppData\\Local\\Temp\\ipykernel_29484\\999767914.py:1: SyntaxWarning: invalid escape sequence '\\s'\n",
      "  model = joblib.load('models\\stock_predictor_MSFT.pkl')\n"
     ]
    }
   ],
   "source": [
    "model = joblib.load('models\\stock_predictor_MSFT.pkl')"
   ]
  },
  {
   "cell_type": "code",
   "execution_count": 3,
   "metadata": {},
   "outputs": [],
   "source": [
    "new_df = pd.read_pickle('NetGEX_AbsGEX_EPS(MSFT).pickle')\n",
    "\n",
    "# Select numeric features and handle missing/infinite values\n",
    "X_new = new_df.select_dtypes(include=[np.number]).copy()\n",
    "X_new.replace([np.inf, -np.inf], np.nan, inplace=True)\n",
    "X_new.fillna(X_new.median(), inplace=True)"
   ]
  },
  {
   "cell_type": "code",
   "execution_count": 16,
   "metadata": {},
   "outputs": [],
   "source": [
    "import pickle\n",
    "np.random.seed(42)\n",
    "\n",
    "# ====================================\n",
    "# 2. Data Loading\n",
    "# ====================================\n",
    "def load_pickle_data(file_path):\n",
    "    \"\"\"\n",
    "    Attempt to load a DataFrame from a pickle file.\n",
    "    \n",
    "    Args:\n",
    "        file_path (str): The path to the pickle file.\n",
    "        \n",
    "    Returns:\n",
    "        data (DataFrame): The loaded pandas DataFrame or None if file is not found.\n",
    "    \"\"\"\n",
    "    try:\n",
    "        with open(file_path, 'rb') as f:\n",
    "            data = pickle.load(f)\n",
    "        print(f\"Data successfully loaded from: {file_path}\")\n",
    "        return data\n",
    "    except FileNotFoundError:\n",
    "        print(f\"File '{file_path}' not found. Check the file path and try again.\")\n",
    "        return None"
   ]
  },
  {
   "cell_type": "code",
   "execution_count": 17,
   "metadata": {},
   "outputs": [
    {
     "name": "stdout",
     "output_type": "stream",
     "text": [
      "Data successfully loaded from: NetGEX_AbsGEX_EPS(AAPL).pickle\n",
      "Columns in the loaded data:\n",
      "['Spot_Open', 'Spot_Close', 'Spot_High', 'Spot_Low', 'PCT_EPS_1mo_Open', 'PCT_EPS_1mo_Close', 'PCT_EPS_1mo_High', 'PCT_EPS_1mo_Low', 'open_abs_gex', 'high_abs_gex', 'low_abs_gex', 'close_abs_gex', 'volume_abs_gex', 'open_net_gex', 'high_net_gex', 'low_net_gex', 'close_net_gex', 'volume_net_gex']\n"
     ]
    },
    {
     "name": "stderr",
     "output_type": "stream",
     "text": [
      "C:\\Users\\Admin\\AppData\\Local\\Temp\\ipykernel_29484\\417150072.py:19: DeprecationWarning: numpy.core.numeric is deprecated and has been renamed to numpy._core.numeric. The numpy._core namespace contains private NumPy internals and its use is discouraged, as NumPy internals can change without warning in any release. In practice, most real-world usage of numpy.core is to access functionality in the public NumPy API. If that is the case, use the public NumPy API. If not, you are using NumPy internals. If you would still like to access an internal attribute, use numpy._core.numeric._frombuffer.\n",
      "  data = pickle.load(f)\n"
     ]
    }
   ],
   "source": [
    "\n",
    "\n",
    "# File path provided by the user\n",
    "file_path = \"NetGEX_AbsGEX_EPS(AAPL).pickle\"\n",
    "data = load_pickle_data(file_path)\n",
    "\n",
    "if data is not None:\n",
    "    print(\"Columns in the loaded data:\")\n",
    "    print(data.columns.tolist())\n"
   ]
  },
  {
   "cell_type": "code",
   "execution_count": 18,
   "metadata": {},
   "outputs": [],
   "source": [
    "data['date'] = pd.to_datetime(data.index)\n",
    "data.sort_values('date', inplace=True)"
   ]
  },
  {
   "cell_type": "code",
   "execution_count": 20,
   "metadata": {},
   "outputs": [
    {
     "name": "stdout",
     "output_type": "stream",
     "text": [
      "\n",
      "Data after preprocessing and feature engineering:\n"
     ]
    }
   ],
   "source": [
    "from sklearn.preprocessing import MinMaxScaler\n",
    "# --- Feature: Daily Return ---\n",
    "# Calculate daily return using Spot_Close.\n",
    "data['daily_return'] = data['Spot_Close'].pct_change().fillna(0)\n",
    "\n",
    "# --- Target Variable ---\n",
    "# Binary target: 1 if next day's Spot_Close is higher, else 0.\n",
    "data['target'] = (data['Spot_Close'].shift(-1) > data['Spot_Close']).astype(int)\n",
    "data = data.iloc[:-1]  # Drop last row due to shift\n",
    "\n",
    "# --- Feature Scaling ---\n",
    "scaler = MinMaxScaler()\n",
    "data['Spot_Close_scaled'] = scaler.fit_transform(data[['Spot_Close']])\n",
    "data['daily_return_scaled'] = scaler.fit_transform(data[['daily_return']])\n",
    "\n",
    "print(\"\\nData after preprocessing and feature engineering:\")"
   ]
  },
  {
   "cell_type": "code",
   "execution_count": 21,
   "metadata": {},
   "outputs": [
    {
     "name": "stderr",
     "output_type": "stream",
     "text": [
      "C:\\Users\\Admin\\AppData\\Local\\Temp\\ipykernel_29484\\3592349862.py:4: FutureWarning: DataFrame.fillna with 'method' is deprecated and will raise in a future version. Use obj.ffill() or obj.bfill() instead.\n",
      "  df.fillna(method='ffill', inplace=True)\n",
      "C:\\Users\\Admin\\AppData\\Local\\Temp\\ipykernel_29484\\3592349862.py:5: FutureWarning: DataFrame.fillna with 'method' is deprecated and will raise in a future version. Use obj.ffill() or obj.bfill() instead.\n",
      "  df.fillna(method='bfill', inplace=True)\n"
     ]
    }
   ],
   "source": [
    "\n",
    "# --- Step 2: Basic Cleanup ---\n",
    "df = data.copy()\n",
    "df.replace([np.inf, -np.inf], np.nan, inplace=True)\n",
    "df.fillna(method='ffill', inplace=True)\n",
    "df.fillna(method='bfill', inplace=True)\n",
    "\n",
    "# Clip outliers in GEX-related columns to reduce noise\n",
    "gex_columns = [col for col in df.columns if 'gex' in col.lower()]\n",
    "df[gex_columns] = df[gex_columns].clip(lower=df[gex_columns].quantile(0.01),\n",
    "                                       upper=df[gex_columns].quantile(0.99), axis=1)\n"
   ]
  },
  {
   "cell_type": "code",
   "execution_count": 22,
   "metadata": {},
   "outputs": [
    {
     "name": "stderr",
     "output_type": "stream",
     "text": [
      "C:\\Users\\Admin\\AppData\\Local\\Temp\\ipykernel_29484\\616468694.py:2: FutureWarning: Series.fillna with 'method' is deprecated and will raise in a future version. Use obj.ffill() or obj.bfill() instead.\n",
      "  df['spot_rolling_mean'] = df['Spot_Close'].rolling(window=5).mean().fillna(method='bfill')\n",
      "C:\\Users\\Admin\\AppData\\Local\\Temp\\ipykernel_29484\\616468694.py:3: FutureWarning: Series.fillna with 'method' is deprecated and will raise in a future version. Use obj.ffill() or obj.bfill() instead.\n",
      "  df['spot_rolling_std'] = df['Spot_Close'].rolling(window=5).std().fillna(method='bfill')\n"
     ]
    }
   ],
   "source": [
    "df['spot_return'] = df['Spot_Close'].pct_change().fillna(0)\n",
    "df['spot_rolling_mean'] = df['Spot_Close'].rolling(window=5).mean().fillna(method='bfill')\n",
    "df['spot_rolling_std'] = df['Spot_Close'].rolling(window=5).std().fillna(method='bfill')\n",
    "\n",
    "# Add target label: Buy (1), Sell (-1), Hold (0)\n",
    "threshold = 0.001  # 0.1% movement\n",
    "df['future_return'] = df['Spot_Close'].pct_change(periods=5).shift(-5)"
   ]
  },
  {
   "cell_type": "code",
   "execution_count": 24,
   "metadata": {},
   "outputs": [],
   "source": [
    "feature_cols = [col for col in df.columns if col not in ['future_return', 'target']]\n",
    "X = df[feature_cols]"
   ]
  },
  {
   "cell_type": "code",
   "execution_count": 29,
   "metadata": {},
   "outputs": [
    {
     "name": "stderr",
     "output_type": "stream",
     "text": [
      "C:\\Users\\Admin\\AppData\\Local\\Temp\\ipykernel_29484\\1148953874.py:1: SettingWithCopyWarning: \n",
      "A value is trying to be set on a copy of a slice from a DataFrame\n",
      "\n",
      "See the caveats in the documentation: https://pandas.pydata.org/pandas-docs/stable/user_guide/indexing.html#returning-a-view-versus-a-copy\n",
      "  X.drop(columns=['date'], inplace=True)\n"
     ]
    }
   ],
   "source": [
    "X.drop(columns=['date'], inplace=True)"
   ]
  },
  {
   "cell_type": "code",
   "execution_count": 31,
   "metadata": {},
   "outputs": [],
   "source": [
    "y_pred = model.predict(X)"
   ]
  }
 ],
 "metadata": {
  "kernelspec": {
   "display_name": "venv",
   "language": "python",
   "name": "python3"
  },
  "language_info": {
   "codemirror_mode": {
    "name": "ipython",
    "version": 3
   },
   "file_extension": ".py",
   "mimetype": "text/x-python",
   "name": "python",
   "nbconvert_exporter": "python",
   "pygments_lexer": "ipython3",
   "version": "3.12.6"
  }
 },
 "nbformat": 4,
 "nbformat_minor": 2
}
